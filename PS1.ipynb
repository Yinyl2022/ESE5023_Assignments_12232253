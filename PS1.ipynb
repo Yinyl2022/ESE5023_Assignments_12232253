{
 "cells": [
  {
   "cell_type": "code",
   "execution_count": 34,
   "id": "29de35ef",
   "metadata": {},
   "outputs": [],
   "source": [
    "import numpy as np"
   ]
  },
  {
   "cell_type": "code",
   "execution_count": 81,
   "id": "d914e268",
   "metadata": {},
   "outputs": [
    {
     "name": "stdout",
     "output_type": "stream",
     "text": [
      "请输入a,b,c的值(如:1 5 10)：1 6 3\n",
      "调换前：a= 1.0 b= 6.0 c= 3.0\n",
      "调换后：a= 6.0 b= 3.0 c= 1.0\n",
      "Solution= -1.0\n"
     ]
    }
   ],
   "source": [
    "#Question 1\n",
    "#输入a,b,c\n",
    "a,b,c = (input(\"请输入a,b,c的值(如:1 5 10)：\").split())\n",
    "a= float(a)\n",
    "b= float(b)\n",
    "c= float(c)\n",
    "print('调换前：a=',a,'b=',b,'c=',c)\n",
    "#根据a,b,c的大小调换值，最大的给a，最小的给c\n",
    "if a>b:\n",
    "    if b<c:\n",
    "        if a>c:\n",
    "            d=c;\n",
    "            c=b;\n",
    "            b=d;\n",
    "        else:\n",
    "            d=c;\n",
    "            c=b;\n",
    "            b=a;\n",
    "            a=d;           \n",
    "else:\n",
    "    if b>c:\n",
    "        if a>c:\n",
    "            d=b;\n",
    "            b=a;\n",
    "            a=d;\n",
    "        else:\n",
    "            d=a;\n",
    "            a=b;\n",
    "            b=c;\n",
    "            c=d;\n",
    "    else:\n",
    "        d=a;\n",
    "        a=c;\n",
    "        c=d;\n",
    "#求解a+b-10*c\n",
    "print('调换后：a=',a,'b=',b,'c=',c)\n",
    "print(\"Solution=\",a+b-10*c)"
   ]
  },
  {
   "cell_type": "code",
   "execution_count": 11,
   "id": "4128b6c2",
   "metadata": {
    "scrolled": true
   },
   "outputs": [
    {
     "name": "stdout",
     "output_type": "stream",
     "text": [
      "List: range(1, 11)\n",
      "对应1:10的函数值为(当然也可以输入单个值，返回单个值)： [1, 5, 7, 13, 15, 17, 21, 23, 25, 33]\n"
     ]
    }
   ],
   "source": [
    "#Question 2\n",
    "import math\n",
    "import numpy as np\n",
    "\n",
    "def cel(x):\n",
    "    if x>1:\n",
    "        g=np.zeros(x)\n",
    "        for i in range(1,x):\n",
    "            g[0]=1;\n",
    "            g[i]=g[math.ceil((i+1)/3)-1]+2*(i+1);\n",
    "        s=g[x-1];\n",
    "    else:\n",
    "        s=x\n",
    "    return int(s)\n",
    "\n",
    "f=[];\n",
    "\n",
    "#输入为1，2，3，... , 9, 10，10个正整数\n",
    "print(\"List:\",range(1,11))\n",
    "#循环调用函数，生成函数值\n",
    "for i in range(1,11):\n",
    "    b=cel(i);\n",
    "    f.append(b);\n",
    "print('对应1:10的函数值为(当然也可以输入单个值，返回单个值)：',f);    "
   ]
  },
  {
   "cell_type": "code",
   "execution_count": 13,
   "id": "b48fee8d",
   "metadata": {
    "scrolled": true
   },
   "outputs": [
    {
     "name": "stdout",
     "output_type": "stream",
     "text": [
      "The sum of values on each face when all the dice are thrown(10~60，eg. 24)=35\n",
      "N= 4395456\n"
     ]
    }
   ],
   "source": [
    "#Question 3_1\n",
    "#思路:先利用广播机制快速生成包含所有结果的数组（包含元素个数:6^10），遍历数组，找相同结果的个数\n",
    "#（占用较多时间）\n",
    "import numpy as np\n",
    "import math\n",
    "def Find_number_of_ways(x):\n",
    "    sum1=[];\n",
    "    a = np.array([[1],[2],[3],[4],[5],[6]]);\n",
    "    b = np.array([1,2,3,4,5,6]);\n",
    "    c=a+b;                                       #利用广播机制求所有可能出现的情况，做成N*1数组\n",
    "    c = c.reshape(36,1);                     \n",
    "    for i in range(3,11):\n",
    "        c=c+b;\n",
    "        c = c.reshape(int(math.pow( 6, i)),1)\n",
    "    for i in np.unique(c):                   \n",
    "        sum1.append(np.sum(c==i))\n",
    "    return sum1\n",
    "\n",
    "x=input('The sum of values on each face when all the dice are thrown(10~60，eg. 24)=');\n",
    "N=Find_number_of_ways(x);\n",
    "print('N=',N[int(x)-10])"
   ]
  },
  {
   "cell_type": "code",
   "execution_count": 82,
   "id": "b49b20b7",
   "metadata": {
    "scrolled": true
   },
   "outputs": [
    {
     "name": "stdout",
     "output_type": "stream",
     "text": [
      "10-60出现的次数相应的列表= [1, 10, 55, 220, 715, 2002, 4995, 11340, 23760, 46420, 85228, 147940, 243925, 383470, 576565, 831204, 1151370, 1535040, 1972630, 2446300, 2930455, 3393610, 3801535, 4121260, 4325310, 4395456, 4325310, 4121260, 3801535, 3393610, 2930455, 2446300, 1972630, 1535040, 1151370, 831204, 576565, 383470, 243925, 147940, 85228, 46420, 23760, 11340, 4995, 2002, 715, 220, 55, 10, 1]\n",
      "Maximum of Number_of_ways= 4395456\n",
      "The corresponding x= 35\n"
     ]
    }
   ],
   "source": [
    "#Question 3_2\n",
    "import numpy as np\n",
    "import math\n",
    "def Find_number_of_ways(x):\n",
    "    sum1=[];\n",
    "    a = np.array([[1],[2],[3],[4],[5],[6]])\n",
    "    b = np.array([1,2,3,4,5,6])\n",
    "    c=a+b;                             #利用numpy广播机制求所有可能出现的情况，快速生成N*1数组\n",
    "    c = c.reshape(36,1)                        \n",
    "    for i in range(3,11):\n",
    "        c=c+b;\n",
    "        c = c.reshape(int(math.pow( 6, i)),1)\n",
    "    for i in np.unique(c):                   \n",
    "        sum1.append(np.sum(c==i))\n",
    "    N=sum1\n",
    "    return N\n",
    "\n",
    "Number_of_ways=Find_number_of_ways(x);\n",
    "print('10-60出现的次数相应的列表=',Number_of_ways);\n",
    "print('Maximum of Number_of_ways=', max(Number_of_ways));\n",
    "b=np.where(np.array(Number_of_ways)==max(Number_of_ways));\n",
    "print('The corresponding x=',int(b[0]+10));"
   ]
  },
  {
   "cell_type": "code",
   "execution_count": 37,
   "id": "56ca1417",
   "metadata": {
    "scrolled": false
   },
   "outputs": [
    {
     "name": "stdout",
     "output_type": "stream",
     "text": [
      "Number of arrays n=5\n",
      "arr1= [ 1  9  4  5 10]\n"
     ]
    }
   ],
   "source": [
    "#Question 4_1\n",
    "def Random_integer(N):\n",
    "    arr=np.random.randint(0,11,N);\n",
    "    return arr\n",
    "\n",
    "N=int(input('Number of arrays n='));\n",
    "arr1=Random_integer(N);\n",
    "print('arr1=',arr1);"
   ]
  },
  {
   "cell_type": "code",
   "execution_count": 76,
   "id": "289cf4f2",
   "metadata": {},
   "outputs": [
    {
     "name": "stdout",
     "output_type": "stream",
     "text": [
      "Input a list(整数，可以有重复值，如：1 2 2 3)：1 2 3 3\n",
      "Sum_averages= 24.25\n"
     ]
    }
   ],
   "source": [
    "#Question 4_2\n",
    "#由于array可以有重复值，所有下面函数考虑array元素含有重复值情况！！！\n",
    "#统计子集个数时也会将重复子集去掉！！！\n",
    "def Sum_averages(a): \n",
    "    #先对a按从小到大顺序排序，便于去重。\n",
    "    a.sort();\n",
    "    b=[];c=[];s=0;                #初始化\n",
    "    for i in range(len(a)):       #思路为：\n",
    "        c[:]=b[:];                #c储存前一步找到的所有子集；\n",
    "        b.append([a[i]]);         #先在b中存入单元素的子集[a[i]]（只含自身）；\n",
    "        for j in range(len(b)-1): #再在b中加入上一步子集c所有元素都加上a[i]后的值；\n",
    "            c[j]=c[j]+[a[i]];     \n",
    "            b.append(c[j]);       #把b存起来，再循环从而将所有子集都加入b\n",
    "    #判断并去掉子集\n",
    "    b.sort();\n",
    "    last = b[-1];\n",
    "    for i in range(len(b) - 2, -1, -1):\n",
    "        if last == b[i]:\n",
    "            del b[i]\n",
    "        else:\n",
    "            last = b[i]\n",
    "    #print('子集个数=',len(b))\n",
    "    #统计并返回所有子集均值的和\n",
    "    sum_list=0;\n",
    "    for i in range(len(b)):\n",
    "        s=np.mean(b[i])\n",
    "        sum_list=sum_list+s;\n",
    "    return sum_list\n",
    "\n",
    "a=input('Input a list(整数，可以有重复值，如：1 2 2 3)：')\n",
    "a=a.split(' ')\n",
    "a = [int(a[i]) for i in range(len(a))]\n",
    "print('Sum_averages=',Sum_averages(a))"
   ]
  },
  {
   "cell_type": "code",
   "execution_count": 79,
   "id": "52a7b34a",
   "metadata": {
    "scrolled": false
   },
   "outputs": [
    {
     "name": "stdout",
     "output_type": "stream",
     "text": [
      "随机数组= [5]\n",
      "子集均值和= 5.0\n",
      "随机数组= [8, 3]\n",
      "子集均值和= 16.5\n",
      "随机数组= [6, 0, 8]\n",
      "子集均值和= 32.66666666666667\n",
      "随机数组= [9, 6, 6, 3]\n",
      "子集均值和= 66.0\n",
      "随机数组= [0, 5, 1, 10, 3]\n",
      "子集均值和= 117.8\n",
      "随机数组= [9, 2, 10, 9, 1, 0]\n",
      "子集均值和= 237.84999999999997\n",
      "随机数组= [5, 0, 4, 5, 9, 6, 0]\n",
      "子集均值和= 299.12619047619046\n",
      "随机数组= [0, 1, 8, 1, 7, 7, 8, 4]\n",
      "子集均值和= 477.02380952380946\n",
      "随机数组= [5, 6, 7, 0, 1, 8, 3, 5, 8]\n",
      "子集均值和= 1359.326587301587\n",
      "随机数组= [4, 9, 2, 5, 3, 3, 10, 3, 9, 5]\n",
      "子集均值和= 1530.2345238095238\n",
      "随机数组= [4, 8, 0, 8, 10, 1, 1, 2, 5, 9, 8]\n",
      "子集均值和= 3879.231385281385\n",
      "随机数组= [7, 4, 4, 0, 3, 5, 2, 2, 10, 4, 5, 3]\n",
      "子集均值和= 3538.681890331891\n",
      "随机数组= [6, 7, 5, 3, 8, 1, 4, 0, 6, 6, 9, 6, 1]\n",
      "子集均值和= 9119.40122932623\n",
      "随机数组= [0, 5, 3, 2, 4, 9, 6, 8, 10, 1, 10, 4, 7, 10]\n",
      "子集均值和= 34360.80304695306\n",
      "随机数组= [5, 0, 5, 7, 4, 10, 7, 2, 4, 10, 5, 8, 0, 10, 2]\n",
      "子集均值和= 13592.48606116106\n",
      "随机数组= [2, 2, 6, 0, 5, 9, 10, 1, 6, 2, 5, 6, 4, 10, 0, 3]\n",
      "子集均值和= 30688.638579476083\n",
      "随机数组= [9, 5, 6, 7, 7, 1, 3, 7, 0, 9, 5, 1, 7, 7, 0, 1, 10]\n",
      "子集均值和= 25817.54009185259\n",
      "随机数组= [10, 1, 2, 0, 1, 8, 7, 0, 4, 10, 1, 5, 7, 9, 10, 2, 6, 8]\n",
      "子集均值和= 104861.26273358997\n",
      "随机数组= [2, 3, 4, 7, 0, 7, 1, 5, 7, 2, 0, 10, 5, 2, 8, 9, 8, 4, 8]\n",
      "子集均值和= 133753.39210942568\n",
      "随机数组= [8, 0, 1, 9, 7, 1, 10, 10, 9, 3, 1, 0, 8, 0, 7, 5, 3, 10, 3, 5]\n",
      "子集均值和= 104072.34499575503\n",
      "随机数组= [8, 0, 3, 6, 1, 5, 2, 3, 7, 3, 10, 9, 0, 7, 0, 6, 6, 10, 10, 8, 7]\n",
      "子集均值和= 259658.33260652318\n",
      "随机数组= [6, 1, 0, 1, 1, 3, 8, 2, 0, 0, 10, 5, 4, 3, 3, 10, 6, 2, 8, 10, 8, 7]\n",
      "子集均值和= 328643.4813772574\n",
      "随机数组= [1, 3, 8, 8, 8, 0, 1, 7, 2, 9, 7, 4, 5, 1, 8, 7, 8, 1, 10, 4, 8, 6, 6]\n",
      "子集均值和= 425406.4319654917\n",
      "随机数组= [8, 7, 3, 3, 7, 6, 1, 1, 7, 8, 10, 7, 6, 8, 4, 2, 7, 9, 5, 5, 10, 6, 5, 10]\n",
      "子集均值和= 665607.9033617731\n",
      "随机数组= [7, 5, 3, 5, 5, 7, 3, 1, 0, 7, 9, 5, 4, 0, 3, 6, 6, 2, 1, 8, 8, 9, 2, 0, 4]\n",
      "子集均值和= 1027165.7337562318\n",
      "[5.0, 16.5, 32.66666666666667, 66.0, 117.8, 237.84999999999997, 299.12619047619046, 477.02380952380946, 1359.326587301587, 1530.2345238095238, 3879.231385281385, 3538.681890331891, 9119.40122932623, 34360.80304695306, 13592.48606116106, 30688.638579476083, 25817.54009185259, 104861.26273358997, 133753.39210942568, 104072.34499575503, 259658.33260652318, 328643.4813772574, 425406.4319654917, 665607.9033617731, 1027165.7337562318]\n"
     ]
    },
    {
     "data": {
      "image/png": "[encoded data removed]",
      "text/plain": [
       "<Figure size 432x288 with 1 Axes>"
      ]
     },
     "metadata": {
      "needs_background": "light"
     },
     "output_type": "display_data"
    }
   ],
   "source": [
    "#Question 4_3\n",
    "#调用4_1的函数，生成的元素有重复值，所以以下代码考虑重复，且去掉从复子集!\n",
    "#由于当N增大子集个数几乎指数增长，且考虑重复子集需要多次遍历，所需计算时间较长，\n",
    "#因此下图仅展示N=1~20的所有子集均值的和。\n",
    "from matplotlib import pyplot as plt\n",
    "Total_sum_averages=[];\n",
    "for i in range(1,26):\n",
    "    a=Random_integer(i);\n",
    "    a=a.tolist();\n",
    "    print('随机数组=',a);\n",
    "    print('子集均值和=',Sum_averages(a));\n",
    "    Total_sum_averages.append(Sum_averages(a))\n",
    "    \n",
    "print(Total_sum_averages)\n",
    "x = [int(i) for i in range(1,26)]\n",
    "plt.title(\"Sum_averages\") \n",
    "plt.xlabel(\"N\") \n",
    "plt.ylabel(\"Sum_average\") \n",
    "plt.plot(x,Total_sum_averages) \n",
    "plt.show()\n",
    "# describe what do you see\n",
    "#从图中可以看出：\n",
    "#（1）（虽然生成的随机数组的均值为5）随着数组元素个数的增加，子集个数快速增大，导致其子集均值和\n",
    "#也快速增大，在（0-25范围内）几乎成指数增长趋势；\n",
    "#（2）（0-25范围内）前半段增长满，后半段斜率快速增大；\n",
    "#（3）曲线N=15-20范围处不光滑，可能由于不同N处，随机数组的值相差较大或重复值得数量相差较大引起。\n",
    "#计算量在大于20后快速增大，电脑计算时间较长，因此仅计算到25。"
   ]
  },
  {
   "cell_type": "code",
   "execution_count": null,
   "id": "7203bd91",
   "metadata": {
    "scrolled": true
   },
   "outputs": [],
   "source": [
    "#Question 5_1\n",
    "#import numpy as np\n",
    "def Create_a_matrix(n,m):\n",
    "    arr1 = np.random.randint(0,2,n*m).reshape(n, m); #生成n行，m列，元素为0或1（随机）的矩阵\n",
    "    arr1[0,0]=1；      #将左上端值换为1\n",
    "    arr1[-1,-1]=1；    #将右下端值换为1\n",
    "    return arr1\n",
    "n = int(input('The number of rows='));\n",
    "m = int(input('The number of columns='));\n",
    "Create_a_matrix(n,m)   #用输入的值调用函数"
   ]
  },
  {
   "cell_type": "code",
   "execution_count": 16,
   "id": "b27cb684",
   "metadata": {
    "scrolled": true
   },
   "outputs": [
    {
     "name": "stdout",
     "output_type": "stream",
     "text": [
      "The number of rows=10\n",
      "The number of columns=8\n",
      "随机生成的矩阵为=\n",
      " [[1 0 1 1 0 1 1 1]\n",
      " [0 0 1 1 1 0 1 1]\n",
      " [0 0 0 0 0 1 0 0]\n",
      " [1 0 0 0 0 1 1 1]\n",
      " [1 1 0 1 0 1 1 1]\n",
      " [0 1 0 0 1 1 0 0]\n",
      " [0 0 1 0 0 0 0 1]\n",
      " [0 1 0 1 1 1 0 1]\n",
      " [1 1 0 0 1 0 0 0]\n",
      " [0 1 1 0 0 1 0 1]]\n",
      "Number of ways =  0\n"
     ]
    }
   ],
   "source": [
    "#Question 5_2\n",
    "import numpy as np\n",
    "#统计路径数的函数Count_path\n",
    "def Count_path(M):\n",
    "    #获取随机矩阵的行数、列数；\n",
    "    (row,col)=M.shape;\n",
    "    #在矩阵M外侧增加0，便于对M矩阵最外侧元素进行判断；\n",
    "    m=np.zeros((row+2,col+2));\n",
    "    for i in range(row):\n",
    "        for j in range(col):\n",
    "            m[i+1,j+1]=M[i,j];\n",
    "    #print(\"外侧增加0后的矩阵=\\n\",m);\n",
    "    (row,col)=m.shape;\n",
    "    #建立矩阵sum，存储某一步仍能向下走的点的坐标（包含不同路径都通过某一点的重复坐标），并把上\n",
    "    #一步已经走过的坐标换为[0,0]，最终统计能到达右下角的所有坐标，再统计不为[0,0]的坐标的个数\n",
    "    sum=np.array([[1,1]]);\n",
    "    for i in range(10000):\n",
    "        if i >= len(sum):break;\n",
    "        if int(sum[[i],[0]])+int(sum[[i],[1]])==(row+col-4):continue;\n",
    "        if m[int(sum[[i],[0]])+1,int(sum[[i],[1]])]==1:\n",
    "            sum=np.append(sum,[[int(sum[i,0])+1,int(sum[i,1])]],axis=0);\n",
    "        if m[int(sum[[i],[0]]),int(sum[[i],[1]])+1]==1:\n",
    "            sum=np.append(sum,[[int(sum[i,0]),int(sum[i,1])+1]],axis=0);\n",
    "        sum[i]=[0,0];\n",
    "        i=0;    \n",
    "    s=0\n",
    "    for i in range(len(sum)):\n",
    "        if np.sum(sum[i])==0:\n",
    "            s+=1;      \n",
    "    return (len(sum)-s)\n",
    "#输入随机矩阵的行数和列数，调用5_1函数生成矩阵\n",
    "N = int(input('The number of rows='));\n",
    "M = int(input('The number of columns='));\n",
    "a=Create_a_matrix(N,M);\n",
    "print(\"随机生成的矩阵为=\\n\",a)\n",
    "Num=Count_path(a)\n",
    "print('Number of ways = ',Num)"
   ]
  },
  {
   "cell_type": "code",
   "execution_count": 88,
   "id": "360b8ab5",
   "metadata": {},
   "outputs": [
    {
     "name": "stdout",
     "output_type": "stream",
     "text": [
      "1000次路径的均值= 0.36\n"
     ]
    }
   ],
   "source": [
    "#Question 5_3\n",
    "#调用5_2函数1000次\n",
    "s=0;\n",
    "for i in range(1000):\n",
    "    a=Create_a_matrix(10,8);\n",
    "    s=s+Count_path(a);    \n",
    "print('1000次路径的均值=',s/1000); #report mean = s/1000"
   ]
  }
 ],
 "metadata": {
  "kernelspec": {
   "display_name": "Python 3 (ipykernel)",
   "language": "python",
   "name": "python3"
  },
  "language_info": {
   "codemirror_mode": {
    "name": "ipython",
    "version": 3
   },
   "file_extension": ".py",
   "mimetype": "text/x-python",
   "name": "python",
   "nbconvert_exporter": "python",
   "pygments_lexer": "ipython3",
   "version": "3.9.12"
  }
 },
 "nbformat": 4,
 "nbformat_minor": 5
}
